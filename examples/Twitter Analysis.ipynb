{
 "cells": [
  {
   "cell_type": "code",
   "execution_count": 17,
   "metadata": {
    "collapsed": true
   },
   "outputs": [],
   "source": [
    "import pandas as pd\n",
    "import numpy as np\n",
    "import seaborn as sns\n",
    "import matplotlib.pyplot as plt\n",
    "import datetime\n",
    "from collections import Counter"
   ]
  },
  {
   "cell_type": "code",
   "execution_count": 2,
   "metadata": {
    "collapsed": true
   },
   "outputs": [],
   "source": [
    "def read_twitter():\n",
    "    tweets_csv = pd.read_csv('tweets.csv')\n",
    "    return tweets_csv"
   ]
  },
  {
   "cell_type": "code",
   "execution_count": 10,
   "metadata": {
    "collapsed": true
   },
   "outputs": [],
   "source": [
    "def tweet_explore(tweets_df):\n",
    "    unique_tweets = tweets_df.tweet_id.nunique()\n",
    "    retweeted = tweets_df.retweeted_status_id.nunique()\n",
    "    return unique_tweets,retweeted"
   ]
  },
  {
   "cell_type": "code",
   "execution_count": 55,
   "metadata": {
    "collapsed": true
   },
   "outputs": [],
   "source": [
    "def date_clean(tweets_df):\n",
    "\n",
    "    tweets_df['month'] = pd.to_datetime(tweets_df['timestamp']).dt.month\n",
    "    tweets_per_month = tweets_df.groupby(['month'])['tweet_id'].count().reset_index()\n",
    "    labels = ['Jan','Feb', 'Mar', 'Apr', 'May', 'Jun', 'Jul', 'Aug', 'Sep' , 'Oct', 'Nov', 'Dec']\n",
    "    return tweets_per_month , labels"
   ]
  },
  {
   "cell_type": "code",
   "execution_count": 37,
   "metadata": {
    "collapsed": true
   },
   "outputs": [],
   "source": [
    "def hashtag_clean(tweets_df):\n",
    "    hashtags = tweets_df.text.str.findall(r'#.*?(?=\\s|$)')\n",
    "    _hashtags_list = []\n",
    "    tweets_int = []\n",
    "    tweets = []\n",
    "    values = []\n",
    "    for i in range(0,len(hashtags)):\n",
    "        if len(hashtags[i]) != 0:\n",
    "            _hashtags_list.append(hashtags[i])\n",
    "            \n",
    "    hashtags_list = [item for sublist in _hashtags_list for item in sublist]\n",
    "    hashtag_dict = Counter(hashtags_list)\n",
    "\n",
    "    for k, v in sorted(hashtag_dict.items(), key=lambda x: x[1], reverse=True):\n",
    "        tweets.append(k)\n",
    "        values.append(v)\n",
    "        \n",
    "    for i in range(0,len(tweets)):\n",
    "        tweets_int.append(i)\n",
    "        \n",
    "    return tweets, tweets_int,values"
   ]
  },
  {
   "cell_type": "code",
   "execution_count": 49,
   "metadata": {
    "collapsed": true
   },
   "outputs": [],
   "source": [
    "def mentions_clean(tweets_df):\n",
    "    friends = tweets_df.text.str.findall(r'@.*?(?=\\s|$)')\n",
    "    _friends_list = []\n",
    "    for i in range(0,len(friends)):\n",
    "        if len(friends[i]) != 0:\n",
    "            _friends_list.append(friends[i])\n",
    "\n",
    "    friends_list = [item for sublist in _friends_list for item in sublist]\n",
    "    friends_dict = Counter(friends_list)\n",
    "    mentions = []\n",
    "    m_values = []\n",
    "    for k, v in sorted(friends_dict.items(), key=lambda x: x[1], reverse=True):\n",
    "        mentions.append(k)\n",
    "        m_values.append(v)\n",
    "    friends_int = []\n",
    "    \n",
    "    for i in range(0,len(friends_list)):\n",
    "        friends_int.append(i)\n",
    "        \n",
    "    return friends_list, friends_int,m_values"
   ]
  },
  {
   "cell_type": "code",
   "execution_count": 42,
   "metadata": {
    "collapsed": true
   },
   "outputs": [],
   "source": [
    "def plot(x,y,z, xlabel, ylabel, title, fig_size, fig_color):\n",
    "    fig,ax= plt.subplots(nrows=1)\n",
    "    ax.bar(z[0:5],y[0:5], color = fig_color)\n",
    "    ax.set_title(title)\n",
    "    ax.set_xlabel(xlabel)\n",
    "    ax.set_ylabel(ylabel)\n",
    "    plt.xticks(z[0:5], x[0:5])\n",
    "    fig.set_size_inches(fig_size)\n",
    "    return"
   ]
  },
  {
   "cell_type": "code",
   "execution_count": 58,
   "metadata": {
    "collapsed": true
   },
   "outputs": [],
   "source": [
    "def plot_tweetDate(x,y, xlabel, ylabel, title, fig_size, fig_color):\n",
    "    fig,ax= plt.subplots(nrows=1)\n",
    "    ax.bar(x['month'],x['tweet_id'], color = fig_color)\n",
    "    ax.set_title(title)\n",
    "    ax.set_xlabel(xlabel)\n",
    "    ax.set_ylabel(ylabel)\n",
    "    plt.xticks(x['month'], y)\n",
    "    fig.set_size_inches(fig_size)\n",
    "    return"
   ]
  },
  {
   "cell_type": "code",
   "execution_count": 9,
   "metadata": {},
   "outputs": [],
   "source": [
    "tweets_df = read_twitter()"
   ]
  },
  {
   "cell_type": "code",
   "execution_count": 11,
   "metadata": {},
   "outputs": [],
   "source": [
    "unique_tweets,retweeted = tweet_explore(tweets_df)"
   ]
  },
  {
   "cell_type": "code",
   "execution_count": 38,
   "metadata": {},
   "outputs": [],
   "source": [
    "hashtags ,hashtags_int, values = hashtag_clean(tweets_df)"
   ]
  },
  {
   "cell_type": "code",
   "execution_count": 50,
   "metadata": {},
   "outputs": [],
   "source": [
    "friends_list, friends_int,m_values = mentions_clean(tweets_df)"
   ]
  },
  {
   "cell_type": "code",
   "execution_count": 56,
   "metadata": {},
   "outputs": [],
   "source": [
    "month_df , labels = date_clean(tweets_df)"
   ]
  },
  {
   "cell_type": "code",
   "execution_count": 12,
   "metadata": {},
   "outputs": [
    {
     "name": "stdout",
     "output_type": "stream",
     "text": [
      "Total number of unique tweets: 939\n",
      "Total retweeted tweets 487\n"
     ]
    }
   ],
   "source": [
    "print('Total number of unique tweets:', unique_tweets)\n",
    "print('Total retweeted tweets', retweeted)"
   ]
  },
  {
   "cell_type": "code",
   "execution_count": 43,
   "metadata": {},
   "outputs": [],
   "source": [
    "plot(tweets,values , tweets_int ,'hashtags' , 'Number' , 'Top 5 Tweet Hashtags', (15,5) , 'Green')"
   ]
  },
  {
   "cell_type": "code",
   "execution_count": 44,
   "metadata": {},
   "outputs": [
    {
     "data": {
      "image/png": "[encoded data removed]",
      "text/plain": [
       "<matplotlib.figure.Figure at 0x11f35a5c0>"
      ]
     },
     "metadata": {},
     "output_type": "display_data"
    }
   ],
   "source": [
    "plt.show()"
   ]
  },
  {
   "cell_type": "code",
   "execution_count": 51,
   "metadata": {
    "collapsed": true
   },
   "outputs": [],
   "source": [
    "plot(friends_list,m_values , friends_int ,'Friend' , 'Number of Mentions' , 'Top 5 Friend Mentions', (15,5) , 'Green')"
   ]
  },
  {
   "cell_type": "code",
   "execution_count": 52,
   "metadata": {},
   "outputs": [
    {
     "data": {
      "image/png": "[encoded data removed]",
      "text/plain": [
       "<matplotlib.figure.Figure at 0x11f20f0b8>"
      ]
     },
     "metadata": {},
     "output_type": "display_data"
    }
   ],
   "source": [
    "plt.show()"
   ]
  },
  {
   "cell_type": "code",
   "execution_count": 59,
   "metadata": {},
   "outputs": [],
   "source": [
    "plot_tweetDate(month_df, labels ,'Month' , 'Number of Tweets' , 'Top Per Month', (15,5) , 'Purple')"
   ]
  },
  {
   "cell_type": "code",
   "execution_count": 60,
   "metadata": {},
   "outputs": [
    {
     "data": {
      "image/png": "[encoded data removed]",
      "text/plain": [
       "<matplotlib.figure.Figure at 0x11f08d4e0>"
      ]
     },
     "metadata": {},
     "output_type": "display_data"
    }
   ],
   "source": [
    "plt.show()"
   ]
  }
 ],
 "metadata": {
  "kernelspec": {
   "display_name": "Python 3",
   "language": "python",
   "name": "python3"
  },
  "language_info": {
   "codemirror_mode": {
    "name": "ipython",
    "version": 3
   },
   "file_extension": ".py",
   "mimetype": "text/x-python",
   "name": "python",
   "nbconvert_exporter": "python",
   "pygments_lexer": "ipython3",
   "version": "3.6.1"
  }
 },
 "nbformat": 4,
 "nbformat_minor": 2
}
